{
  "cells": [
    {
      "cell_type": "markdown",
      "metadata": {
        "id": "d_OeqFT8viEH"
      },
      "source": [
        "# Person Class"
      ]
    },
    {
      "cell_type": "code",
      "execution_count": 4,
      "metadata": {
        "id": "WxjVMmE_d1bJ"
      },
      "outputs": [],
      "source": [
        "class Person:\n",
        "  def __init__(self, ssn, name, address=None):\n",
        "    '''\n",
        "    Constructor of Person class\n",
        "    Input:\n",
        "      ssn: string, social security number (must be not None or empty)\n",
        "      name: string, name of the person and must have at least two words\n",
        "      address: string, address of the person and is None if not set\n",
        "    '''\n",
        "    # Use assert to check ssn that cannot be None or empty, error message is: \"ssn cannot be None or empty\"\n",
        "    # Use assert to check name that cannot be None and has at least two words, error message is: \"name must have at least two words\"\n",
        "    # Assign all the values to corresponding data members (if asserts passed)\n",
        "    assert ssn != None and ssn != \"\", \"ssn cannot be None or empty\"\n",
        "    assert name != None and len(name.split(\" \")) >= 2, \"name must have at least two words\"\n",
        "    self.ssn = ssn\n",
        "    self.name = name\n",
        "    self.address = address\n",
        "    \n",
        "\n",
        "  def get_name(self):\n",
        "    return self.name\n",
        "\n",
        "  def set_name(self, name):\n",
        "    # Only set names if it has at least two parts (use split function to split by a space and check the length)\n",
        "    # Otherwise, print a message: \"Warning: The name must have at least two words, the new name was not set.\" and do not set the name\n",
        "    parts = name.split(\" \")\n",
        "    if len(parts) < 2:\n",
        "      print(\"Warning: The name must have at least two words, the new name was not set.\")\n",
        "    else:\n",
        "      self.name = name\n",
        "    \n",
        "  def get_address(self):\n",
        "    # If the address is None or empty, return \"No address specified\"\n",
        "    # Otherwise, return the address\n",
        "    if self.address == None or self.address == \"\":\n",
        "      return \"No address specified\"\n",
        "    else:\n",
        "      return self.address\n",
        "\n",
        "  def set_address(self, address):\n",
        "    # Only set address if it is not None or empty\n",
        "    # Otherwise, print a message \"Warning: Address cannot be None or empty, the new address was not set.\" and do not set the address\n",
        "    if address == None or address == \"\":\n",
        "      print(\"Warning: Address cannot be None or empty, the new address was not set.\")\n",
        "    else:\n",
        "      self.address = address\n",
        "\n",
        "  def __str__(self):\n",
        "    '''\n",
        "    Return the person information with \"Name: <name>, Address: <address>\"\n",
        "    '''\n",
        "    # Note: if address is None or empty it should be displayed as \"No address specified\" (use the getter here)\n",
        "    return \"Name: \" + self.name + \", Address: \" + self.get_address()\n",
        "    "
      ]
    },
    {
      "cell_type": "code",
      "execution_count": 5,
      "metadata": {
        "colab": {
          "base_uri": "https://localhost:8080/"
        },
        "id": "t5wX-x1trQ6T",
        "outputId": "d7f5383e-d9b0-49df-f317-71a595cbc345"
      },
      "outputs": [
        {
          "name": "stdout",
          "output_type": "stream",
          "text": [
            "AssertionError: ssn cannot be None or empty\n"
          ]
        }
      ],
      "source": [
        "# Test case 1 (5 points)\n",
        "try:\n",
        "  p1 = Person(ssn='', name=\"John Smith\", address=\"Texas, USA\")\n",
        "except AssertionError as e:\n",
        "  print(f'AssertionError: {e}')\n"
      ]
    },
    {
      "cell_type": "markdown",
      "metadata": {
        "id": "eJ6PgSkNrVcs"
      },
      "source": [
        "Test case 1 should give: AssertionError: ssn cannot be None or empty"
      ]
    },
    {
      "cell_type": "code",
      "execution_count": 6,
      "metadata": {
        "colab": {
          "base_uri": "https://localhost:8080/"
        },
        "id": "-RQcS_FyrFPV",
        "outputId": "17d879e3-ac76-4aac-e668-a5af7eea5410"
      },
      "outputs": [
        {
          "name": "stdout",
          "output_type": "stream",
          "text": [
            "AssertionError: name must have at least two words\n"
          ]
        }
      ],
      "source": [
        "# Test case 2 (5 points)\n",
        "try:\n",
        "  p1 = Person(ssn='ssn', name=\"John\", address=\"Address\")\n",
        "except AssertionError as e:\n",
        "  print(f'AssertionError: {e}')"
      ]
    },
    {
      "cell_type": "markdown",
      "metadata": {
        "id": "WtlBVsrfrjdw"
      },
      "source": [
        "Test case 2 should give: AssertionError: name must have at least two words"
      ]
    },
    {
      "cell_type": "code",
      "execution_count": 7,
      "metadata": {
        "colab": {
          "base_uri": "https://localhost:8080/"
        },
        "id": "nAOSrFmprPks",
        "outputId": "de743d7c-06ea-4600-a238-aaf6614a0a93"
      },
      "outputs": [
        {
          "name": "stdout",
          "output_type": "stream",
          "text": [
            "Name: John Smith, Address: No address specified\n"
          ]
        }
      ],
      "source": [
        "# Test case 3 (5 points)\n",
        "p1 = Person(ssn='ssn', name=\"John Smith\")\n",
        "print(p1)"
      ]
    },
    {
      "cell_type": "markdown",
      "metadata": {
        "id": "U42_dZB0r4vb"
      },
      "source": [
        "Test case 3 should give: Name: John Smith, Address: No address specified"
      ]
    },
    {
      "cell_type": "code",
      "execution_count": 8,
      "metadata": {
        "colab": {
          "base_uri": "https://localhost:8080/"
        },
        "id": "U1pCfAEZnPSq",
        "outputId": "a2b19d05-5603-49c8-d2bc-343910e69dd2"
      },
      "outputs": [
        {
          "name": "stdout",
          "output_type": "stream",
          "text": [
            "Name: John Smith, Address: Texas, USA\n"
          ]
        }
      ],
      "source": [
        "# Test case 4 (5 points)\n",
        "p1 = Person(ssn='ssn', name=\"John Smith\", address=\"Texas, USA\")\n",
        "print(p1)"
      ]
    },
    {
      "cell_type": "markdown",
      "metadata": {
        "id": "_SHrdTVltGOx"
      },
      "source": [
        "Test case 4 should give: Name: John Smith, Address: Texas, USA"
      ]
    },
    {
      "cell_type": "code",
      "execution_count": 9,
      "metadata": {
        "colab": {
          "base_uri": "https://localhost:8080/"
        },
        "id": "D4PptViTn0Bn",
        "outputId": "5a8339dd-e6d6-4759-9471-cfb17ff1b672"
      },
      "outputs": [
        {
          "name": "stdout",
          "output_type": "stream",
          "text": [
            "Warning: Address cannot be None or empty, the new address was not set.\n",
            "Name: John Smith, Address: No address specified\n"
          ]
        }
      ],
      "source": [
        "# Test case 5 (5 points)\n",
        "p1 = Person(ssn='ssn', name=\"John Smith\")\n",
        "p1.set_address(\"\")\n",
        "print(p1)"
      ]
    },
    {
      "cell_type": "markdown",
      "metadata": {
        "id": "33ycn6nuticc"
      },
      "source": [
        "Test case 5 should give: \n",
        "\n",
        "Warning: Address cannot be None or empty, the new address was not set.<br/>\n",
        "Name: John Smith, Address: No address specified"
      ]
    },
    {
      "cell_type": "code",
      "execution_count": 10,
      "metadata": {
        "colab": {
          "base_uri": "https://localhost:8080/"
        },
        "id": "tJiD1WqCpdp4",
        "outputId": "1d598086-4073-497d-f2c7-9d3a0ba89f86"
      },
      "outputs": [
        {
          "name": "stdout",
          "output_type": "stream",
          "text": [
            "Warning: The name must have at least two words, the new name was not set.\n",
            "Name: John Smith, Address: No address specified\n"
          ]
        }
      ],
      "source": [
        "# Test case 6 (5 points)\n",
        "p1 = Person(ssn='ssn', name=\"John Smith\")\n",
        "p1.set_name(\"John\")\n",
        "print(p1)"
      ]
    },
    {
      "cell_type": "markdown",
      "metadata": {
        "id": "mkdahgC7vZAa"
      },
      "source": [
        "Test case 6 should give\n",
        "\n",
        "Warning: The name must have at least two words, the new name was not set.<br/>\n",
        "Name: John Smith, Address: No address specified"
      ]
    },
    {
      "cell_type": "markdown",
      "metadata": {
        "id": "tx2IFGYZv6FL"
      },
      "source": [
        "# Employee"
      ]
    },
    {
      "cell_type": "code",
      "execution_count": null,
      "metadata": {
        "id": "PolbgUNbvIXD"
      },
      "outputs": [],
      "source": [
        "class Employee(Person):\n",
        "  emp_counter = 0\n",
        "  def __init__(self, ssn, name, address=None, salary=0):\n",
        "    # Use super to assign ssn, name, address\n",
        "    # Use assert to check salary must >= 0, error message is \"Salary must be positive\"\n",
        "    # Increase employee counter and assign it to emp_number of this object\n",
        "    super().__init__(ssn, name, address)\n",
        "    # CODE_HERE\n",
        "\n",
        "  def get_salary(self):\n",
        "    return self.salary\n",
        "\n",
        "  def set_salary(self, salary):\n",
        "    # If salary < 0 then display a warning message \"Warning: salary cannot be negative, the new salary was not set.\" and do not set the new salary\n",
        "    # Otherwise, set the salary\n",
        "    # CODE_HERE\n",
        "\n",
        "  def __str__(self):\n",
        "    # Get the information as the person (use super() and call to __str__ method to get this)\n",
        "    # Additionally, add \", Employee number <emp_number>, Monthly salary: <salary>\" to the end of the person display\n",
        "    # CODE_HERE\n",
        "\n",
        "  def pay(self):\n",
        "    '''\n",
        "    Display a message \"Paid: + <the __str__ method of this employee>.\"\n",
        "    '''\n",
        "    # CODE_HERE\n",
        "    "
      ]
    },
    {
      "cell_type": "code",
      "execution_count": null,
      "metadata": {
        "colab": {
          "base_uri": "https://localhost:8080/"
        },
        "id": "8W3pzcctwkYP",
        "outputId": "f62bca28-b3b3-424d-d0dd-a297ae46f260"
      },
      "outputs": [
        {
          "name": "stdout",
          "output_type": "stream",
          "text": [
            "Name: John Smith, Address: Texas, USA, Employee number 1, Monthly salary: 10.\n",
            "Paid: Name: John Smith, Address: Texas, USA, Employee number 1, Monthly salary: 10.\n"
          ]
        }
      ],
      "source": [
        "# Test case 7 (5 points)\n",
        "e1 = Employee(\"1\", \"John Smith\", \"Texas, USA\", 10)\n",
        "print(e1)\n",
        "e1.pay()"
      ]
    },
    {
      "cell_type": "markdown",
      "metadata": {
        "id": "8ZXdrj7X3BAx"
      },
      "source": [
        "Test case 7 should give:\n",
        "\n",
        "Name: John Smith, Address: Texas, USA, Employee number 1, Monthly salary: 10<br/>\n",
        "Paid: Name: John Smith, Address: Texas, USA, Employee number 1, Monthly salary: 10."
      ]
    },
    {
      "cell_type": "code",
      "execution_count": null,
      "metadata": {
        "colab": {
          "base_uri": "https://localhost:8080/"
        },
        "id": "LEeNAR4jxFS1",
        "outputId": "f742de4a-32f1-4f1b-e5a3-c271074e0763"
      },
      "outputs": [
        {
          "name": "stdout",
          "output_type": "stream",
          "text": [
            "Warning: salary cannot be negative, the new salary was not set.\n",
            "Name: William Pham, Address: Texas, USA, Employee number 2, Monthly salary: 10.\n"
          ]
        }
      ],
      "source": [
        "# Test case 8 (5 points)\n",
        "e1 = Employee(\"1\", \"William Pham\", \"Texas, USA\", 10)\n",
        "e1.set_salary(-1)\n",
        "print(e1)"
      ]
    },
    {
      "cell_type": "markdown",
      "metadata": {
        "id": "4VCTM8NM3iHz"
      },
      "source": [
        "Test case 8 should give (given that test case 7 was executed and passed):\n",
        "\n",
        "Warning: salary cannot be negative, the new salary was not set.<br/>\n",
        "Name: William Pham, Address: Texas, USA, Employee number 2, Monthly salary: 10."
      ]
    },
    {
      "cell_type": "markdown",
      "metadata": {
        "id": "BY9Q2ycW5TSV"
      },
      "source": [
        "# Part-time Employee"
      ]
    },
    {
      "cell_type": "code",
      "execution_count": null,
      "metadata": {
        "id": "rG43LTkT3U_D"
      },
      "outputs": [],
      "source": [
        "class PartTimeEmployee(Employee):\n",
        "  def __init__(self, ssn, name, address=None, salary=0):\n",
        "    # Use super to assign ssn, name, address, salary, and also increase and set the employee counter and number\n",
        "    # CODE_HERE\n",
        "\n",
        "  def __str__(self):\n",
        "    # Get the information as the person. Hint: To call to __str__ method of Person you use this Person.__str__(self)\n",
        "    # Additionally, add \", Employee number <emp_number>, Hourly wage: <salary>\" to the end of the person display\n",
        "    # CODE_HERE\n",
        "\n",
        "  def pay(self):\n",
        "    # Ask to input the worked hours (float type, and the prompt message is \"Please input worked hours: \")\n",
        "    # If the users input an invalid value (not a positive number), display a message \"Salary must be a positive number, did not pay any to {this employee __str__ method}\". Hint: Use try/except and assert.\n",
        "    # Compute the paying amount (worked hours * salary)\n",
        "    # Display a message \"Paid {amount}: + <the __str__ method of this employee> for {worked hours}.\"\n",
        "    try:\n",
        "      # CODE_HERE\n",
        "    except:\n",
        "      # CODE_HERE\n",
        "    "
      ]
    },
    {
      "cell_type": "code",
      "execution_count": null,
      "metadata": {
        "colab": {
          "base_uri": "https://localhost:8080/"
        },
        "id": "Or3NJ7Qo6-1Y",
        "outputId": "a704a3e6-19d6-47c4-bea2-1653a847dfce"
      },
      "outputs": [
        {
          "name": "stdout",
          "output_type": "stream",
          "text": [
            "Please input worked hours: 11\n",
            "Paid 11.0: Name: Black Smith, Address: Texas, USA, Employee number 3, Hourly wage: 1. for 11.0\n"
          ]
        }
      ],
      "source": [
        "# Test case 9 (5 points), please input 11 as the prompt for worked hours\n",
        "pt1 = PartTimeEmployee(\"ssn2\", \"Black Smith\", \"Texas, USA\", 1)\n",
        "pt1.pay()"
      ]
    },
    {
      "cell_type": "markdown",
      "metadata": {
        "id": "LndgSwdF-YzJ"
      },
      "source": [
        "Test case 9 should give:\n",
        "\n",
        "Please input worked hours: 11 <br/>\n",
        "Paid 11.0: Name: Black Smith, Address: Texas, USA, Employee number 4, Hourly wage: 1. for 11.0"
      ]
    },
    {
      "cell_type": "code",
      "execution_count": null,
      "metadata": {
        "colab": {
          "base_uri": "https://localhost:8080/"
        },
        "id": "_uDj-HA79UfH",
        "outputId": "0daa451e-551f-4505-e5ff-f036eeaf78a9"
      },
      "outputs": [
        {
          "name": "stdout",
          "output_type": "stream",
          "text": [
            "Please input worked hours: -1\n",
            "Salary must be a positive number, did not pay any to Name: Joe Smith, Address: Texas, USA, Employee number 4, Hourly wage: 1.\n"
          ]
        }
      ],
      "source": [
        "# Test case 10 (5 points), please input -1 as the prompt for worked hours\n",
        "pt1 = PartTimeEmployee(\"ssn3\", \"Joe Smith\", \"Texas, USA\", 1)\n",
        "pt1.pay()"
      ]
    },
    {
      "cell_type": "markdown",
      "metadata": {
        "id": "rmXpR7gp-w8j"
      },
      "source": [
        "Test case 10 should give:\n",
        "\n",
        "Please input worked hours: -1<br/>\n",
        "Salary must be a positive number, did not pay any to Name: Joe Smith, Address: Texas, USA, Employee number 5, Hourly wage: 1.\n"
      ]
    },
    {
      "cell_type": "code",
      "execution_count": null,
      "metadata": {
        "id": "6toKpR3C-syQ"
      },
      "outputs": [],
      "source": []
    }
  ],
  "metadata": {
    "colab": {
      "collapsed_sections": [],
      "provenance": []
    },
    "kernelspec": {
      "display_name": "Python 3.10.8 64-bit (microsoft store)",
      "language": "python",
      "name": "python3"
    },
    "language_info": {
      "codemirror_mode": {
        "name": "ipython",
        "version": 3
      },
      "file_extension": ".py",
      "mimetype": "text/x-python",
      "name": "python",
      "nbconvert_exporter": "python",
      "pygments_lexer": "ipython3",
      "version": "3.10.8"
    },
    "vscode": {
      "interpreter": {
        "hash": "25023e466fa3735353441a9750ec1431f91af0e07709d75994f3b2db92047dd9"
      }
    }
  },
  "nbformat": 4,
  "nbformat_minor": 0
}
