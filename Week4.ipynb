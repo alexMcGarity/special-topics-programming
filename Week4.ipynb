{
 "cells": [
  {
   "cell_type": "code",
   "execution_count": null,
   "metadata": {},
   "outputs": [],
   "source": [
    "def avg(grades):\n",
    "    return sum(grades)/len(grades)\n",
    "def get_stats(class_list: list)->list:\n",
    "    '''\n",
    "    Input: a list of students, each student is a list of name (first name and last name) and a list of grades\n",
    "    Return:\n",
    "\n",
    "    '''\n",
    "    ret = []\n",
    "    for s in class_list:\n",
    "        ret.append([s[0], s[1], avg(s[1])])\n",
    "    \n",
    "    return ret"
   ]
  }
 ],
 "metadata": {
  "kernelspec": {
   "display_name": "Python 3.9.13 64-bit (microsoft store)",
   "language": "python",
   "name": "python3"
  },
  "language_info": {
   "name": "python",
   "version": "3.9.13"
  },
  "orig_nbformat": 4,
  "vscode": {
   "interpreter": {
    "hash": "9796f63588c077cdaec5724834e41066ac5e9b30a52f9e3aeae2f3215664e626"
   }
  }
 },
 "nbformat": 4,
 "nbformat_minor": 2
}
